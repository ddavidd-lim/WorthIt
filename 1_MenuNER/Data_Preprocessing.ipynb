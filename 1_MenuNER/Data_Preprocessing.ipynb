{
 "cells": [
  {
   "cell_type": "code",
   "execution_count": 8,
   "id": "89189f1b-5f9d-49d0-ae81-da163ca15459",
   "metadata": {},
   "outputs": [],
   "source": [
    "import numpy as np\n",
    "import pandas as pd\n",
    "import cv2\n",
    "import easyocr\n",
    "\n",
    "import os\n",
    "from glob import glob\n",
    "from tqdm import tqdm\n",
    "\n",
    "import warnings\n",
    "warnings.filterwarnings('ignore')"
   ]
  },
  {
   "cell_type": "markdown",
   "id": "e9faf0f4-e0e2-47be-b1db-15ac9c8552fb",
   "metadata": {},
   "source": [
    "### Converting DataFrame to csv"
   ]
  },
  {
   "cell_type": "code",
   "execution_count": 48,
   "id": "7743f34b-9603-49b1-a416-8aeb136d2d84",
   "metadata": {},
   "outputs": [
    {
     "name": "stderr",
     "output_type": "stream",
     "text": [
      "Neither CUDA nor MPS are available - defaulting to CPU. Note: This module is much faster with a GPU.\n"
     ]
    }
   ],
   "source": [
    "allMenus = pd.DataFrame(columns=['id', 'text'])\n",
    "\n",
    "imgPath = \"./images/005.jpg\"\n",
    "\n",
    "image = cv2.imread(imgPath)\n",
    "_, filename = os.path.split(imgPath)\n",
    "\n",
    "reader = easyocr.Reader(['en', 'ch_tra'])\n",
    "results = reader.readtext(\"./images/005.jpg\")\n",
    "\n",
    "columns = ['bounding_box', 'text', 'confidence']\n",
    "data = [(result[0], result[1], result[2]) for result in results]\n",
    "df = pd.DataFrame(data, columns=columns)\n",
    "df['confidence'] = df['confidence'].round(2)"
   ]
  },
  {
   "cell_type": "code",
   "execution_count": 44,
   "id": "8fc340af-4720-419a-9452-4bbb4dc893ee",
   "metadata": {},
   "outputs": [
    {
     "data": {
      "text/html": [
       "<div>\n",
       "<style scoped>\n",
       "    .dataframe tbody tr th:only-of-type {\n",
       "        vertical-align: middle;\n",
       "    }\n",
       "\n",
       "    .dataframe tbody tr th {\n",
       "        vertical-align: top;\n",
       "    }\n",
       "\n",
       "    .dataframe thead th {\n",
       "        text-align: right;\n",
       "    }\n",
       "</style>\n",
       "<table border=\"1\" class=\"dataframe\">\n",
       "  <thead>\n",
       "    <tr style=\"text-align: right;\">\n",
       "      <th></th>\n",
       "      <th>bounding_box</th>\n",
       "      <th>text</th>\n",
       "      <th>confidence</th>\n",
       "    </tr>\n",
       "  </thead>\n",
       "  <tbody>\n",
       "    <tr>\n",
       "      <th>0</th>\n",
       "      <td>[[822, 546], [1126, 546], [1126, 654], [822, 6...</td>\n",
       "      <td>前菜小食</td>\n",
       "      <td>0.85</td>\n",
       "    </tr>\n",
       "    <tr>\n",
       "      <th>1</th>\n",
       "      <td>[[1697, 418], [2431, 418], [2431, 648], [1697,...</td>\n",
       "      <td>蠲N0[</td>\n",
       "      <td>0.05</td>\n",
       "    </tr>\n",
       "    <tr>\n",
       "      <th>2</th>\n",
       "      <td>[[778, 631], [1167, 631], [1167, 711], [778, 7...</td>\n",
       "      <td>Appetizers &amp; Snacks</td>\n",
       "      <td>0.80</td>\n",
       "    </tr>\n",
       "    <tr>\n",
       "      <th>3</th>\n",
       "      <td>[[1470, 636], [1994, 636], [1994, 765], [1470,...</td>\n",
       "      <td>t.42~7</td>\n",
       "      <td>0.00</td>\n",
       "    </tr>\n",
       "    <tr>\n",
       "      <th>4</th>\n",
       "      <td>[[2960, 641], [3298, 641], [3298, 731], [2960,...</td>\n",
       "      <td>包孚-餒子</td>\n",
       "      <td>0.05</td>\n",
       "    </tr>\n",
       "    <tr>\n",
       "      <th>...</th>\n",
       "      <td>...</td>\n",
       "      <td>...</td>\n",
       "      <td>...</td>\n",
       "    </tr>\n",
       "    <tr>\n",
       "      <th>93</th>\n",
       "      <td>[[2341.980558500954, 2529.087239305534], [2423...</td>\n",
       "      <td>Sag0</td>\n",
       "      <td>0.18</td>\n",
       "    </tr>\n",
       "    <tr>\n",
       "      <th>94</th>\n",
       "      <td>[[2412.00019994002, 2537.100979706098], [2492....</td>\n",
       "      <td>Soup</td>\n",
       "      <td>1.00</td>\n",
       "    </tr>\n",
       "    <tr>\n",
       "      <th>95</th>\n",
       "      <td>[[2770.8669156380993, 2577.107961318116], [285...</td>\n",
       "      <td>Mung</td>\n",
       "      <td>1.00</td>\n",
       "    </tr>\n",
       "    <tr>\n",
       "      <th>96</th>\n",
       "      <td>[[2925.887552844813, 2586.1040300775094], [300...</td>\n",
       "      <td>Soup</td>\n",
       "      <td>1.00</td>\n",
       "    </tr>\n",
       "    <tr>\n",
       "      <th>97</th>\n",
       "      <td>[[3470.019419324309, 2622.0970966215455], [355...</td>\n",
       "      <td>Plum</td>\n",
       "      <td>0.82</td>\n",
       "    </tr>\n",
       "  </tbody>\n",
       "</table>\n",
       "<p>98 rows × 3 columns</p>\n",
       "</div>"
      ],
      "text/plain": [
       "                                         bounding_box                 text  \\\n",
       "0   [[822, 546], [1126, 546], [1126, 654], [822, 6...                 前菜小食   \n",
       "1   [[1697, 418], [2431, 418], [2431, 648], [1697,...                 蠲N0[   \n",
       "2   [[778, 631], [1167, 631], [1167, 711], [778, 7...  Appetizers & Snacks   \n",
       "3   [[1470, 636], [1994, 636], [1994, 765], [1470,...               t.42~7   \n",
       "4   [[2960, 641], [3298, 641], [3298, 731], [2960,...                包孚-餒子   \n",
       "..                                                ...                  ...   \n",
       "93  [[2341.980558500954, 2529.087239305534], [2423...                 Sag0   \n",
       "94  [[2412.00019994002, 2537.100979706098], [2492....                 Soup   \n",
       "95  [[2770.8669156380993, 2577.107961318116], [285...                 Mung   \n",
       "96  [[2925.887552844813, 2586.1040300775094], [300...                 Soup   \n",
       "97  [[3470.019419324309, 2622.0970966215455], [355...                 Plum   \n",
       "\n",
       "    confidence  \n",
       "0         0.85  \n",
       "1         0.05  \n",
       "2         0.80  \n",
       "3         0.00  \n",
       "4         0.05  \n",
       "..         ...  \n",
       "93        0.18  \n",
       "94        1.00  \n",
       "95        1.00  \n",
       "96        1.00  \n",
       "97        0.82  \n",
       "\n",
       "[98 rows x 3 columns]"
      ]
     },
     "execution_count": 44,
     "metadata": {},
     "output_type": "execute_result"
    }
   ],
   "source": [
    "df"
   ]
  },
  {
   "cell_type": "code",
   "execution_count": 49,
   "id": "8bbf5340-49c5-4f7d-86ae-af95faa5a1c9",
   "metadata": {},
   "outputs": [],
   "source": [
    "desiredText = df.query('confidence >= .3')\n",
    "\n",
    "menu = pd.DataFrame()\n",
    "menu['text'] = desiredText['text']\n",
    "menu['id'] = filename\n",
    "\n",
    "allMenus = pd.concat((allMenus, menu))"
   ]
  },
  {
   "cell_type": "code",
   "execution_count": 50,
   "id": "1a067eda-9b25-4cd6-aae2-b27bc482c797",
   "metadata": {},
   "outputs": [],
   "source": [
    "allMenus.to_csv('menu.csv', index=False)"
   ]
  },
  {
   "cell_type": "code",
   "execution_count": 40,
   "id": "72b101df-a612-42d8-bbe6-31de2468198f",
   "metadata": {},
   "outputs": [
    {
     "data": {
      "text/html": [
       "<div>\n",
       "<style scoped>\n",
       "    .dataframe tbody tr th:only-of-type {\n",
       "        vertical-align: middle;\n",
       "    }\n",
       "\n",
       "    .dataframe tbody tr th {\n",
       "        vertical-align: top;\n",
       "    }\n",
       "\n",
       "    .dataframe thead th {\n",
       "        text-align: right;\n",
       "    }\n",
       "</style>\n",
       "<table border=\"1\" class=\"dataframe\">\n",
       "  <thead>\n",
       "    <tr style=\"text-align: right;\">\n",
       "      <th></th>\n",
       "      <th>text</th>\n",
       "      <th>id</th>\n",
       "    </tr>\n",
       "  </thead>\n",
       "  <tbody>\n",
       "    <tr>\n",
       "      <th>0</th>\n",
       "      <td>前菜小食</td>\n",
       "      <td>005.jpg</td>\n",
       "    </tr>\n",
       "    <tr>\n",
       "      <th>2</th>\n",
       "      <td>Appetizers &amp; Snacks</td>\n",
       "      <td>005.jpg</td>\n",
       "    </tr>\n",
       "    <tr>\n",
       "      <th>6</th>\n",
       "      <td>Dumplings &amp; Baos</td>\n",
       "      <td>005.jpg</td>\n",
       "    </tr>\n",
       "    <tr>\n",
       "      <th>7</th>\n",
       "      <td>2</td>\n",
       "      <td>005.jpg</td>\n",
       "    </tr>\n",
       "    <tr>\n",
       "      <th>8</th>\n",
       "      <td>2</td>\n",
       "      <td>005.jpg</td>\n",
       "    </tr>\n",
       "    <tr>\n",
       "      <th>...</th>\n",
       "      <td>...</td>\n",
       "      <td>...</td>\n",
       "    </tr>\n",
       "    <tr>\n",
       "      <th>92</th>\n",
       "      <td>Vege</td>\n",
       "      <td>005.jpg</td>\n",
       "    </tr>\n",
       "    <tr>\n",
       "      <th>94</th>\n",
       "      <td>Soup</td>\n",
       "      <td>005.jpg</td>\n",
       "    </tr>\n",
       "    <tr>\n",
       "      <th>95</th>\n",
       "      <td>Mung</td>\n",
       "      <td>005.jpg</td>\n",
       "    </tr>\n",
       "    <tr>\n",
       "      <th>96</th>\n",
       "      <td>Soup</td>\n",
       "      <td>005.jpg</td>\n",
       "    </tr>\n",
       "    <tr>\n",
       "      <th>97</th>\n",
       "      <td>Plum</td>\n",
       "      <td>005.jpg</td>\n",
       "    </tr>\n",
       "  </tbody>\n",
       "</table>\n",
       "<p>80 rows × 2 columns</p>\n",
       "</div>"
      ],
      "text/plain": [
       "                   text       id\n",
       "0                  前菜小食  005.jpg\n",
       "2   Appetizers & Snacks  005.jpg\n",
       "6      Dumplings & Baos  005.jpg\n",
       "7                     2  005.jpg\n",
       "8                     2  005.jpg\n",
       "..                  ...      ...\n",
       "92                 Vege  005.jpg\n",
       "94                 Soup  005.jpg\n",
       "95                 Mung  005.jpg\n",
       "96                 Soup  005.jpg\n",
       "97                 Plum  005.jpg\n",
       "\n",
       "[80 rows x 2 columns]"
      ]
     },
     "execution_count": 40,
     "metadata": {},
     "output_type": "execute_result"
    }
   ],
   "source": [
    "menu"
   ]
  },
  {
   "cell_type": "code",
   "execution_count": 33,
   "id": "e2e4db9d-9a33-4bff-b271-705734cbc4d8",
   "metadata": {},
   "outputs": [
    {
     "data": {
      "text/plain": [
       "'005.jpg'"
      ]
     },
     "execution_count": 33,
     "metadata": {},
     "output_type": "execute_result"
    }
   ],
   "source": [
    "filename"
   ]
  },
  {
   "cell_type": "code",
   "execution_count": null,
   "id": "f0af7272-c805-4f02-83c3-b8bd9229d0c1",
   "metadata": {},
   "outputs": [],
   "source": []
  }
 ],
 "metadata": {
  "kernelspec": {
   "display_name": "Python 3 (ipykernel)",
   "language": "python",
   "name": "python3"
  },
  "language_info": {
   "codemirror_mode": {
    "name": "ipython",
    "version": 3
   },
   "file_extension": ".py",
   "mimetype": "text/x-python",
   "name": "python",
   "nbconvert_exporter": "python",
   "pygments_lexer": "ipython3",
   "version": "3.10.10"
  }
 },
 "nbformat": 4,
 "nbformat_minor": 5
}

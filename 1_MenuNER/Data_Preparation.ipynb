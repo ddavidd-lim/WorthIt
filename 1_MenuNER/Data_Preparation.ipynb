{
 "cells": [
  {
   "cell_type": "code",
   "execution_count": 1,
   "id": "4f875220-be52-4412-9b50-669927422dea",
   "metadata": {},
   "outputs": [],
   "source": [
    "import numpy as np\n",
    "import pandas as pd\n",
    "import string\n",
    "import re"
   ]
  },
  {
   "cell_type": "code",
   "execution_count": 2,
   "id": "2ca1a538-ccc6-44ba-b918-b31bddfc0671",
   "metadata": {},
   "outputs": [],
   "source": [
    "with open('menu.txt', mode='r', encoding='utf8', errors='ignore') as f:\n",
    "    text = f.read()"
   ]
  },
  {
   "cell_type": "code",
   "execution_count": 15,
   "id": "bd8c35c0-0fcf-48fd-9cf9-2f80ea7d761b",
   "metadata": {},
   "outputs": [],
   "source": [
    "# print(text)"
   ]
  },
  {
   "cell_type": "code",
   "execution_count": 4,
   "id": "355d6044-08f4-4acf-8f03-361b44608f72",
   "metadata": {},
   "outputs": [],
   "source": [
    "data = list(map(lambda x:x.split('\\t'), text.split('\\n')))\n",
    "# map(function to apply, the thing that the function is applied to)"
   ]
  },
  {
   "cell_type": "code",
   "execution_count": 5,
   "id": "5cf5e565-23e4-422f-bbf8-9d530c53710f",
   "metadata": {},
   "outputs": [],
   "source": [
    "df = pd.DataFrame(data[1:], columns=data[0])"
   ]
  },
  {
   "cell_type": "code",
   "execution_count": 6,
   "id": "fc190d72-b147-4a9a-beff-56eaed67c9fc",
   "metadata": {},
   "outputs": [
    {
     "data": {
      "text/html": [
       "<div>\n",
       "<style scoped>\n",
       "    .dataframe tbody tr th:only-of-type {\n",
       "        vertical-align: middle;\n",
       "    }\n",
       "\n",
       "    .dataframe tbody tr th {\n",
       "        vertical-align: top;\n",
       "    }\n",
       "\n",
       "    .dataframe thead th {\n",
       "        text-align: right;\n",
       "    }\n",
       "</style>\n",
       "<table border=\"1\" class=\"dataframe\">\n",
       "  <thead>\n",
       "    <tr style=\"text-align: right;\">\n",
       "      <th></th>\n",
       "      <th>id</th>\n",
       "      <th>text</th>\n",
       "      <th>tag</th>\n",
       "    </tr>\n",
       "  </thead>\n",
       "  <tbody>\n",
       "    <tr>\n",
       "      <th>0</th>\n",
       "      <td>005.jpg</td>\n",
       "      <td>前菜小食</td>\n",
       "      <td>O</td>\n",
       "    </tr>\n",
       "    <tr>\n",
       "      <th>1</th>\n",
       "      <td>005.jpg</td>\n",
       "      <td>Appetizers &amp; Snacks</td>\n",
       "      <td>O</td>\n",
       "    </tr>\n",
       "    <tr>\n",
       "      <th>2</th>\n",
       "      <td>005.jpg</td>\n",
       "      <td>Dumplings &amp; Baos</td>\n",
       "      <td>O</td>\n",
       "    </tr>\n",
       "    <tr>\n",
       "      <th>3</th>\n",
       "      <td>005.jpg</td>\n",
       "      <td>2</td>\n",
       "      <td>O</td>\n",
       "    </tr>\n",
       "    <tr>\n",
       "      <th>4</th>\n",
       "      <td>005.jpg</td>\n",
       "      <td>2</td>\n",
       "      <td>O</td>\n",
       "    </tr>\n",
       "    <tr>\n",
       "      <th>5</th>\n",
       "      <td>005.jpg</td>\n",
       "      <td>香辣鹵牛腱</td>\n",
       "      <td>O</td>\n",
       "    </tr>\n",
       "    <tr>\n",
       "      <th>6</th>\n",
       "      <td>005.jpg</td>\n",
       "      <td>899</td>\n",
       "      <td>O</td>\n",
       "    </tr>\n",
       "    <tr>\n",
       "      <th>7</th>\n",
       "      <td>005.jpg</td>\n",
       "      <td>799</td>\n",
       "      <td>O</td>\n",
       "    </tr>\n",
       "    <tr>\n",
       "      <th>8</th>\n",
       "      <td>005.jpg</td>\n",
       "      <td>醋泡木耳</td>\n",
       "      <td>O</td>\n",
       "    </tr>\n",
       "    <tr>\n",
       "      <th>9</th>\n",
       "      <td>005.jpg</td>\n",
       "      <td>Soy Braised Beef Slices</td>\n",
       "      <td>O</td>\n",
       "    </tr>\n",
       "  </tbody>\n",
       "</table>\n",
       "</div>"
      ],
      "text/plain": [
       "        id                     text tag\n",
       "0  005.jpg                     前菜小食   O\n",
       "1  005.jpg      Appetizers & Snacks   O\n",
       "2  005.jpg         Dumplings & Baos   O\n",
       "3  005.jpg                        2   O\n",
       "4  005.jpg                        2   O\n",
       "5  005.jpg                    香辣鹵牛腱   O\n",
       "6  005.jpg                      899   O\n",
       "7  005.jpg                      799   O\n",
       "8  005.jpg                     醋泡木耳   O\n",
       "9  005.jpg  Soy Braised Beef Slices   O"
      ]
     },
     "execution_count": 6,
     "metadata": {},
     "output_type": "execute_result"
    }
   ],
   "source": [
    "df.head(10)"
   ]
  },
  {
   "cell_type": "markdown",
   "id": "2903e6c8-eae8-444c-b95f-04aa32a176f5",
   "metadata": {},
   "source": [
    "### Cleaning Text\n",
    "* Remove white space\n",
    "* Remove unwanted special characters"
   ]
  },
  {
   "cell_type": "code",
   "execution_count": 7,
   "id": "f30fa134-1d0d-4be4-a737-5be6ee1c0f67",
   "metadata": {},
   "outputs": [],
   "source": [
    "whitespace = string.whitespace\n",
    "punctuation = '!\"#$%&\\'()*+:;<=>?[\\\\]^`{|}~'\n",
    "tableWhitespace = str.maketrans('','',whitespace) # replace whitespace with ''\n",
    "tablePunctuation = str.maketrans('','',punctuation)\n",
    "# maketrans(x,y,z) args: if found x, replace with y, if found z, remove z\n",
    "def cleanText(txt):\n",
    "    text = str(txt)\n",
    "    # text = text.lower()\n",
    "    removewhitespace = text.translate(tableWhitespace)\n",
    "    removepunctuation = removewhitespace.translate(tablePunctuation)\n",
    "\n",
    "    return str(removepunctuation)\n",
    "# punctuation = punctuation to remove"
   ]
  },
  {
   "cell_type": "code",
   "execution_count": 8,
   "id": "86351ac3-f5c2-46d4-b11e-9ea65d39eb63",
   "metadata": {},
   "outputs": [],
   "source": [
    "df['text'] = df['text'].apply(cleanText)"
   ]
  },
  {
   "cell_type": "code",
   "execution_count": 9,
   "id": "2a9390db-334a-4671-9ede-088031c9e2c0",
   "metadata": {},
   "outputs": [
    {
     "name": "stderr",
     "output_type": "stream",
     "text": [
      "C:\\Users\\David\\AppData\\Local\\Temp\\ipykernel_7972\\3379659824.py:2: SettingWithCopyWarning: \n",
      "A value is trying to be set on a copy of a slice from a DataFrame\n",
      "\n",
      "See the caveats in the documentation: https://pandas.pydata.org/pandas-docs/stable/user_guide/indexing.html#returning-a-view-versus-a-copy\n",
      "  dataClean.dropna(inplace=True)\n"
     ]
    }
   ],
   "source": [
    "dataClean = df.query(\"text != '' \")\n",
    "dataClean.dropna(inplace=True)"
   ]
  },
  {
   "cell_type": "code",
   "execution_count": 20,
   "id": "13e96fa8-9516-4159-a7d9-27d71f4ccd64",
   "metadata": {},
   "outputs": [],
   "source": [
    "group = dataClean.groupby(by='id')\n",
    "menus = group.groups.keys()"
   ]
  },
  {
   "cell_type": "markdown",
   "id": "08880cf4-4305-439d-9a34-8274c9b33ba9",
   "metadata": {},
   "source": [
    "### Entity Gathering"
   ]
  },
  {
   "cell_type": "code",
   "execution_count": 21,
   "id": "582c48c2-986e-4050-98cb-971406f76a3d",
   "metadata": {},
   "outputs": [],
   "source": [
    "allMenuData = []\n",
    "for menu in menus:\n",
    "    menuData = []\n",
    "    grouparray = group.get_group(menu)[['text','tag']].values\n",
    "    content = '' # all text \n",
    "    annotations = {'entities':[]} # dict: information about labels\n",
    "    start = 0 # positions\n",
    "    end = 0\n",
    "    for text, label in grouparray:\n",
    "        text = str(text)\n",
    "        stringLength = len(text) + 1\n",
    "    \n",
    "        start = end\n",
    "        end = start + stringLength\n",
    "    \n",
    "        if label != 'O':\n",
    "            annot = (start, end-1, label)\n",
    "            annotations['entities'].append(annot)\n",
    "    \n",
    "        content = content + text + ' '\n",
    "\n",
    "    menuData = (content, annotations)\n",
    "    allMenuData.append(menuData)"
   ]
  },
  {
   "cell_type": "code",
   "execution_count": 22,
   "id": "c4950d66-a9ae-438d-9e8b-34a56e6c8059",
   "metadata": {},
   "outputs": [
    {
     "data": {
      "text/plain": [
       "'前菜小食 AppetizersSnacks DumplingsBaos 2 2 香辣鹵牛腱 899 799 醋泡木耳 SoyBraisedBeefSlices PorkEarSliceswithChiliOil 599 WithCilantro andCilantro WoodEarMushroomPickled 4個1099 499 withWildChil Pie4Pieces PorkSteamedBao3Pieces 5 6 5 坡子街熱鹵 1299 木耳 千張 牛肉 腐竹 涼拌千張絲 799 ChangshaStyleSpicyMedley 鹽酥雞 1099 TofuSkinSalad WoodEarMushroomTofuSkinShreds. CrispyChicken 999 PigEarBeefDredTofuSkin, WildChiliBeefin 999 素水鉸6個 699 ChinesePita PorkSteamedDumplingPieces DumplingsPieces 8 飲料 甜品 BeveragesDesserts 刮涼粉 499 虎皮蛋 加面 199 Each MungBeanMoodle FriedEggEach AddMoodles Iced With 綠豆爽399 玉米汁299 HotSpicy CoconutJuiceandPeach Iced Bean 酸梅湯29 2021-2024 nC 626.571 CornJuice Juice Crispy Vege Soup Mung Soup Plum '"
      ]
     },
     "execution_count": 22,
     "metadata": {},
     "output_type": "execute_result"
    }
   ],
   "source": [
    "content"
   ]
  },
  {
   "cell_type": "code",
   "execution_count": 13,
   "id": "c46aafaf-bbb1-419a-b9bf-f5774ab2ae0c",
   "metadata": {},
   "outputs": [
    {
     "data": {
      "text/plain": [
       "{'entities': []}"
      ]
     },
     "execution_count": 13,
     "metadata": {},
     "output_type": "execute_result"
    }
   ],
   "source": [
    "annotations"
   ]
  },
  {
   "cell_type": "code",
   "execution_count": 16,
   "id": "b193b232-6a65-41ad-95f5-4fa2f95cd8a8",
   "metadata": {},
   "outputs": [],
   "source": [
    "# content.find('') + len()"
   ]
  },
  {
   "cell_type": "markdown",
   "id": "3e989b1d-f0d3-4398-86fa-07fa470fecbd",
   "metadata": {},
   "source": [
    "### Split the data into training and testing set"
   ]
  },
  {
   "cell_type": "code",
   "execution_count": 17,
   "id": "3ad812a1-cbc6-4e69-aa3e-2e8c1ab31389",
   "metadata": {},
   "outputs": [],
   "source": [
    "import random"
   ]
  },
  {
   "cell_type": "code",
   "execution_count": null,
   "id": "8e7e7478-1b2a-4f80-8f68-9acd3ee24fe7",
   "metadata": {},
   "outputs": [],
   "source": [
    "random.shuffle(allMenuData)"
   ]
  },
  {
   "cell_type": "code",
   "execution_count": 24,
   "id": "5a007e2c-9f3e-48b5-a706-3075d46773cb",
   "metadata": {},
   "outputs": [
    {
     "data": {
      "text/plain": [
       "1"
      ]
     },
     "execution_count": 24,
     "metadata": {},
     "output_type": "execute_result"
    }
   ],
   "source": [
    "len(allMenuData) # should be # of menus"
   ]
  },
  {
   "cell_type": "code",
   "execution_count": 25,
   "id": "8040818f-eeb1-4617-b4c3-11c8b15dd686",
   "metadata": {},
   "outputs": [],
   "source": [
    "TrainData = allCardsData[:240]\n",
    "TestData = allCardsData[240:]"
   ]
  },
  {
   "cell_type": "code",
   "execution_count": 26,
   "id": "1382d764-22cf-4850-b227-4adc8aae25b6",
   "metadata": {},
   "outputs": [],
   "source": [
    "import pickle"
   ]
  },
  {
   "cell_type": "code",
   "execution_count": 27,
   "id": "1fd3040e-06f0-4fce-a58b-6b91952fd67c",
   "metadata": {},
   "outputs": [],
   "source": [
    "pickle.dump(TrainData, open('./data/TrainData.pickle',mode='wb'))\n",
    "pickle.dump(TrainData, open('./data/TestData.pickle',mode='wb'))"
   ]
  },
  {
   "cell_type": "code",
   "execution_count": null,
   "id": "bd4b2576-1d06-4b59-8ec1-17012cf57c16",
   "metadata": {},
   "outputs": [],
   "source": []
  }
 ],
 "metadata": {
  "kernelspec": {
   "display_name": "Python 3 (ipykernel)",
   "language": "python",
   "name": "python3"
  },
  "language_info": {
   "codemirror_mode": {
    "name": "ipython",
    "version": 3
   },
   "file_extension": ".py",
   "mimetype": "text/x-python",
   "name": "python",
   "nbconvert_exporter": "python",
   "pygments_lexer": "ipython3",
   "version": "3.10.10"
  }
 },
 "nbformat": 4,
 "nbformat_minor": 5
}

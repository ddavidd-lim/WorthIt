{
 "cells": [
  {
   "cell_type": "code",
   "execution_count": 1,
   "id": "00458989-4530-45e0-90a8-9cae29dc9e03",
   "metadata": {},
   "outputs": [],
   "source": [
    "import numpy as np\n",
    "import pandas as pd\n",
    "import cv2 # opencv\n",
    "import PIL # pillow\n",
    "import pytesseract\n",
    "\n",
    "from pdfminer.high_level import extract_text"
   ]
  },
  {
   "cell_type": "code",
   "execution_count": 9,
   "id": "b4d1ab90-8ccb-43f7-8020-da12d68fb34b",
   "metadata": {},
   "outputs": [],
   "source": [
    "img_cv = cv2.imread(\"./images/002.jpg\")\n",
    "\n",
    "cv2.namedWindow('Menu Card', cv2.WINDOW_NORMAL)\n",
    "cv2.imshow('Menu Card', img_cv)\n",
    "cv2.waitKey(0) # how many seconds to wait before seeing\n",
    "cv2.destroyAllWindows()"
   ]
  },
  {
   "cell_type": "markdown",
   "id": "e99f624b-f229-4587-80a1-15d2483606c2",
   "metadata": {},
   "source": [
    "### Extract text from Image"
   ]
  },
  {
   "cell_type": "code",
   "execution_count": 10,
   "id": "e393edaf-1a24-4294-9730-d3a2f62b9af8",
   "metadata": {},
   "outputs": [],
   "source": [
    "text_cv = pytesseract.image_to_string(img_cv)"
   ]
  },
  {
   "cell_type": "code",
   "execution_count": 11,
   "id": "d3e6ed91-b2d0-4aef-a689-4890ce3c4754",
   "metadata": {},
   "outputs": [
    {
     "name": "stdout",
     "output_type": "stream",
     "text": [
      "ism NOODLE\n",
      "\n",
      "FRE “7 ‘eemen 149\n",
      "~~ Tomato 80x Tail Nevaie Soup + Shredded Chicken Noodle S\n",
      "| eee = : ‘in Golden Soup y\n",
      "\n",
      "Boeein I)\n",
      "~ Pickled Long Bean 1485 —\n",
      "Chicken Gizzard Noodle Soup\n",
      "\n",
      "SS —\n",
      "\n",
      "Prey, cae\n",
      "\n",
      "Pickled Long Bean a4 433\n",
      "Chicken Gizzard Over Rice “s\n",
      "\n",
      "\n"
     ]
    }
   ],
   "source": [
    "print(text_cv)"
   ]
  },
  {
   "cell_type": "code",
   "execution_count": null,
   "id": "23c7e207-1de0-4905-81a2-87872fbfa7ae",
   "metadata": {},
   "outputs": [],
   "source": []
  }
 ],
 "metadata": {
  "kernelspec": {
   "display_name": "Python 3 (ipykernel)",
   "language": "python",
   "name": "python3"
  },
  "language_info": {
   "codemirror_mode": {
    "name": "ipython",
    "version": 3
   },
   "file_extension": ".py",
   "mimetype": "text/x-python",
   "name": "python",
   "nbconvert_exporter": "python",
   "pygments_lexer": "ipython3",
   "version": "3.12.1"
  }
 },
 "nbformat": 4,
 "nbformat_minor": 5
}

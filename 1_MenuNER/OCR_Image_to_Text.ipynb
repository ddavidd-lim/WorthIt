{
 "cells": [
  {
   "cell_type": "code",
   "execution_count": 2,
   "id": "2fc41341-48c1-455a-870e-8185c3580de0",
   "metadata": {},
   "outputs": [],
   "source": [
    "import numpy as np\n",
    "import pandas as pd\n",
    "import cv2 # opencv\n",
    "import PIL # pillow\n",
    "\n",
    "import sys\n",
    "import easyocr"
   ]
  },
  {
   "cell_type": "code",
   "execution_count": 1,
   "id": "b1c44fa5-f739-4ece-a6a9-e031fd3100d5",
   "metadata": {},
   "outputs": [
    {
     "ename": "NameError",
     "evalue": "name 'cv2' is not defined",
     "output_type": "error",
     "traceback": [
      "\u001b[1;31m---------------------------------------------------------------------------\u001b[0m",
      "\u001b[1;31mNameError\u001b[0m                                 Traceback (most recent call last)",
      "Cell \u001b[1;32mIn[1], line 2\u001b[0m\n\u001b[0;32m      1\u001b[0m \u001b[38;5;66;03m# display chosen image\u001b[39;00m\n\u001b[1;32m----> 2\u001b[0m img_cv \u001b[38;5;241m=\u001b[39m \u001b[43mcv2\u001b[49m\u001b[38;5;241m.\u001b[39mimread(\u001b[38;5;124m\"\u001b[39m\u001b[38;5;124m./images/005.jpg\u001b[39m\u001b[38;5;124m\"\u001b[39m)\n\u001b[0;32m      4\u001b[0m cv2\u001b[38;5;241m.\u001b[39mnamedWindow(\u001b[38;5;124m'\u001b[39m\u001b[38;5;124mMenu Card\u001b[39m\u001b[38;5;124m'\u001b[39m, cv2\u001b[38;5;241m.\u001b[39mWINDOW_NORMAL)\n\u001b[0;32m      5\u001b[0m cv2\u001b[38;5;241m.\u001b[39mimshow(\u001b[38;5;124m'\u001b[39m\u001b[38;5;124mMenu Card\u001b[39m\u001b[38;5;124m'\u001b[39m, img_cv)\n",
      "\u001b[1;31mNameError\u001b[0m: name 'cv2' is not defined"
     ]
    }
   ],
   "source": [
    "# display chosen image\n",
    "img_cv = cv2.imread(\"./images/005.jpg\")\n",
    "\n",
    "cv2.namedWindow('Menu Card', cv2.WINDOW_NORMAL)\n",
    "cv2.imshow('Menu Card', img_cv)\n",
    "cv2.waitKey(0) # how many seconds to wait before seeing\n",
    "cv2.destroyAllWindows()"
   ]
  },
  {
   "cell_type": "markdown",
   "id": "9505c85a-acae-4efc-a6a9-c85477cd6d1a",
   "metadata": {},
   "source": [
    "#### EASYOCR"
   ]
  },
  {
   "cell_type": "code",
   "execution_count": 3,
   "id": "6bdaf89e-94cd-4f27-be61-380d07520753",
   "metadata": {},
   "outputs": [
    {
     "name": "stderr",
     "output_type": "stream",
     "text": [
      "Neither CUDA nor MPS are available - defaulting to CPU. Note: This module is much faster with a GPU.\n"
     ]
    }
   ],
   "source": [
    "reader = easyocr.Reader(['en', 'ch_tra'])\n",
    "results = reader.readtext(\"./images/005.jpg\")"
   ]
  },
  {
   "cell_type": "code",
   "execution_count": null,
   "id": "a2564036-8cc3-4e28-8d2c-c7de60028c09",
   "metadata": {},
   "outputs": [],
   "source": [
    "# results = [([[corner1]...,[corner4]], text, confidence score)]\n",
    "# Process OCR results\n",
    "for detection in results:\n",
    "    bounding_box = detection[0]\n",
    "    text = detection[1]\n",
    "    confidence = detection[2]\n",
    "\n",
    "    # print(f'Text: {text}, Bounding Box: {bounding_box}, Confidence: {confidence}')"
   ]
  },
  {
   "cell_type": "markdown",
   "id": "612f0487-be60-47fd-94fb-06ed7f662777",
   "metadata": {},
   "source": [
    "### Visualize OCR text"
   ]
  },
  {
   "cell_type": "code",
   "execution_count": null,
   "id": "0c35550f-5a5e-4efb-9a2e-f56f49eecb6e",
   "metadata": {},
   "outputs": [],
   "source": [
    "image_path = './images/005.jpg'\n",
    "image = cv2.imread(image_path)\n",
    "\n",
    "# Process OCR results and draw on the image\n",
    "for detection in results:\n",
    "    bounding_box = detection[0]\n",
    "    text = detection[1]\n",
    "\n",
    "    # Convert the bounding box coordinates to integers\n",
    "    bounding_box = [(int(coord[0]), int(coord[1])) for coord in bounding_box]\n",
    "\n",
    "    # Draw a rectangle on the image\n",
    "    cv2.rectangle(image, bounding_box[0], bounding_box[2], (0, 255, 0), 2)\n",
    "\n",
    "    # Display the text near the bounding box\n",
    "    cv2.putText(image, text, (bounding_box[0][0], bounding_box[0][1] - 10),\n",
    "                cv2.FONT_HERSHEY_SIMPLEX, 0.8, (0, 0, 255), 2)\n",
    "\n",
    "# Display the image with bounding boxes and text\n",
    "cv2.namedWindow('OCR Results', cv2.WINDOW_NORMAL)\n",
    "cv2.imshow('OCR Results', image)\n",
    "cv2.waitKey(0)\n",
    "cv2.destroyAllWindows()\n"
   ]
  },
  {
   "cell_type": "code",
   "execution_count": null,
   "id": "f1d34538-83e8-4ade-8529-8f42009de917",
   "metadata": {},
   "outputs": [],
   "source": [
    "# Convert results to a DataFrame\n",
    "columns = ['bounding_box', 'text', 'confidence']\n",
    "data = [(result[0], result[1], result[2]) for result in results]\n",
    "df = pd.DataFrame(data, columns=columns)\n",
    "df['confidence'] = df['confidence'].round(2)"
   ]
  }
 ],
 "metadata": {
  "kernelspec": {
   "display_name": "Python 3 (ipykernel)",
   "language": "python",
   "name": "python3"
  },
  "language_info": {
   "codemirror_mode": {
    "name": "ipython",
    "version": 3
   },
   "file_extension": ".py",
   "mimetype": "text/x-python",
   "name": "python",
   "nbconvert_exporter": "python",
   "pygments_lexer": "ipython3",
   "version": "3.10.10"
  }
 },
 "nbformat": 4,
 "nbformat_minor": 5
}
